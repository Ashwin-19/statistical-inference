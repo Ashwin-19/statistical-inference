{
 "cells": [
  {
   "cell_type": "markdown",
   "metadata": {},
   "source": [
    "# Statistical Inference - Assignment II\n",
    "## Question - 1"
   ]
  },
  {
   "cell_type": "code",
   "execution_count": 1,
   "metadata": {},
   "outputs": [],
   "source": [
    "# Using data given in the question\n",
    "data <- c('Ai','Akemi','Akiko','Ayumi','Chiaki','Chie','Eiko','Eri','Eriko','Fumiko','Harumi','Hitomi','Hiroko',\n",
    "          'Hiroko','Hidemi','Hisako','Hinako','Izumi','Izumi','Junko','Junko','Kana','Kanako','Kanayo','Kayo',\n",
    "          'Kayoko','Kazumi','Keiko','Keiko','Kei','Kumi','Kumiko','Kyoko','Kyoko','Madoka','Maho','Mai','Maiko',\n",
    "          'Maki','Miki','Miki','Mikiko','Mina','Minako','Miyako','Momoko','Nana','Naoko','Naoko','Naoko','Noriko',\n",
    "          'Rieko','Rika','Rika','Rumiko','Rei','Reiko','Reiko','Sachiko','Sachiko','Sachiyo','Saki','Sayaka',\n",
    "          'Sayoko','Sayuri','Seiko','Shiho','Shizuka','Sumiko','Takako','Takako','Tomoe','Tomoe','Tomoko','Touko',\n",
    "          'Yasuko','Yasuko','Yasuyo','Yoko','Yoko','Yoko','Yoshiko','Yoshiko','Yoshiko','Yuka','Yuki','Yuki',\n",
    "          'Yukiko','Yuko','Yuko')"
   ]
  },
  {
   "cell_type": "markdown",
   "metadata": {},
   "source": [
    "$\\textbf{Modelling: }\\text{Each name can be modelled using a Bernoulli Random Variable }X_{i}\\text{ such that }$\n",
    "<br/>\n",
    "$X_{i} = \\begin{cases} \n",
    "          1 & \\text{Name ends with \"ko\"} \\\\\n",
    "          0 & \\text{otherwise} \\\\\n",
    "       \\end{cases}$\n",
    "\n",
    "$\\text{So, total number of names ending with \"ko\"}= \\sum_{i}^{n} X_{i} \\text{ where }X_{i} \\text{~ i.i.d }Bernoulli(p).$\n",
    "\n",
    "$\\sum_{i}^{n} X_{i} \\text{ ~ }Binomial(n,p) \\text{ with mean }\\mu = np \\text{ and variance }\\sigma^{2} = np(1-p) \\hspace{20mm} (1)$\n",
    "\n",
    "$\\textbf{Statistic: }\\text{Proportion of names of Japanese girls ending with \"ko\"} = \\frac{\\sum_{i}^{n} X_{i}}{n} = \\bar{X}: \\text{ Sample Mean.}$\n",
    "\n",
    "$\\bar{X} = \\frac{\\sum_{i}^{n} X_{i}}{n} \\text{ has mean }\\mu' = \\frac{np}{n} = p\\text{ and variance }\\sigma'^{2} = \\frac{np(1-p)}{n^{2}} = \\frac{p(1-p)}{n}\\hspace{20mm} From\\hspace{2mm}(1)$\n",
    "\n",
    "$\\textbf{Assumptions: }$\n",
    "+ $\\text{The sample is a simple random sample.}$\n",
    "+ $np = 63 \\geq 5 \\text{ and } nq = 27 \\geq 5 \\text{ are both satisfied for our case.}$\n",
    "+ $\\text{Conditions for a Binomial Distribution are satisfied.}$\n",
    "\n",
    "$\\textbf{Hypothesis: }\\text{Proportion of names of Japanese girls ending with \"ko\" is less than 70}\\%$\n",
    "<br/>\n",
    "$if\\hspace{2.5mm} \\bar{X} \\geq 0.7, \\hspace{2.5mm} accept \\hspace{2.5mm} H_{0}: \\text{Null Hypothesis }$\n",
    "<br/>\n",
    "$if\\hspace{2.5mm} \\bar{X} < 0.7, \\hspace{2.5mm} accept \\hspace{2.5mm} H_{1}: \\text{Alternate Hypothesis } $\n",
    "<br/>\n",
    "\n",
    "$\\textbf{Test Statistic: }\\text{Our event of interest in this case is }\\bar{X} \\geq 0.7 \\text{ which can be equivalently written as:}$\n",
    "$\\frac{|\\bar{X} - 0.7|}{\\frac{\\sigma}{\\sqrt{n}}} \\geq z \\text{ for }A(z) = 1-\\alpha.$\n",
    "\n",
    "$\\text{Therefore, we have } Z = \\frac{|\\bar{X} - \\mu|}{\\sigma'} = \\frac{|\\bar{X} - 0.7|}{\\frac{\\sigma}{\\sqrt{n}}} \\text{ ~ } Normal(0,1) \\text{ as the test statistic.}$"
   ]
  },
  {
   "cell_type": "code",
   "execution_count": 2,
   "metadata": {},
   "outputs": [
    {
     "name": "stdout",
     "output_type": "stream",
     "text": [
      "[1] \"The test statistic Z: -2.99028409048353\"\n"
     ]
    }
   ],
   "source": [
    "# function to calculate number of sum of Xi\n",
    "sum_Xi <- function(data) {\n",
    "    S <- 0\n",
    "    for(i in 1:length(data))\n",
    "    {\n",
    "        x = data[i]\n",
    "        if(substr(x, nchar(x)-1, nchar(x)) == 'ko')\n",
    "        {\n",
    "            S <- S + 1\n",
    "        }\n",
    "    }\n",
    "    return(S) \n",
    "}\n",
    "\n",
    "# compute mean and std deviation of Binomial Random Variable \n",
    "n = length(data)\n",
    "p = 0.7\n",
    "mu = p\n",
    "sigma = sqrt(p*(1-p))\n",
    "\n",
    "# compute X_bar from the data\n",
    "X_bar = sum_Xi(data)/n\n",
    "\n",
    "# compute test statistic Z\n",
    "Z = (X_bar-mu)/(sigma/sqrt(n))\n",
    "\n",
    "print(paste(\"The test statistic Z:\",Z))"
   ]
  },
  {
   "cell_type": "markdown",
   "metadata": {},
   "source": [
    "$\\text{We choose Type-I error }\\alpha = 0.05 \\text{ i.e. significance level = 5%.}$"
   ]
  },
  {
   "cell_type": "code",
   "execution_count": 3,
   "metadata": {},
   "outputs": [
    {
     "name": "stdout",
     "output_type": "stream",
     "text": [
      "[1] \"z: -1.64485362695147\"\n",
      "[1] \"Null Hypotheses H0 is rejected under significance level 5%\"\n"
     ]
    }
   ],
   "source": [
    "# set significance value\n",
    "z = qnorm(0.05,0,1,lower.tail=TRUE)\n",
    "print(paste(\"z:\",z))\n",
    "\n",
    "if(Z >= T){\n",
    "    print(\"Alternate Hypotheses H1 is rejected under significance level 5%\")\n",
    "} else {\n",
    "    print(\"Null Hypotheses H0 is rejected under significance level 5%\")\n",
    "}"
   ]
  },
  {
   "cell_type": "markdown",
   "metadata": {},
   "source": [
    "$\\text{Hence, we conclude that our assumptions were sufficient to reject the Null Hypothesis under 5% significance level. }$\n",
    "<br/>\n",
    "$\\text{Therefore, the proportion of names of Japanese girls ending with \"ko\" has reduced and is less than 70%.}$"
   ]
  },
  {
   "cell_type": "markdown",
   "metadata": {},
   "source": [
    "## Ashwin Singh\n",
    "## 2017222"
   ]
  }
 ],
 "metadata": {
  "kernelspec": {
   "display_name": "R",
   "language": "R",
   "name": "ir"
  },
  "language_info": {
   "codemirror_mode": "r",
   "file_extension": ".r",
   "mimetype": "text/x-r-source",
   "name": "R",
   "pygments_lexer": "r",
   "version": "3.5.1"
  }
 },
 "nbformat": 4,
 "nbformat_minor": 2
}
