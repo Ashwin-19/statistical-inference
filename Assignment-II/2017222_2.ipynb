{
 "cells": [
  {
   "cell_type": "markdown",
   "metadata": {},
   "source": [
    "# Statistical Inference - Assignment II\n",
    "## Question - 2"
   ]
  },
  {
   "cell_type": "code",
   "execution_count": 1,
   "metadata": {},
   "outputs": [],
   "source": [
    "# Using data as given in the question\n",
    "with_breakfast <- c(8,7,9,5,9,8,10,7,6,9)\n",
    "without_breakfast <- c(6,5,5,4,7,7,7,5,6,5)"
   ]
  },
  {
   "cell_type": "markdown",
   "metadata": {},
   "source": [
    "$\\text{Given two types of samples of work hours with and without breakfast, we have the following:}$\n",
    "\n",
    "$\\mu_{1}\\text{: mean of work hours with breakfast}, \\hspace{2.5mm} \\mu_{2}\\text{: mean of work hours without breakfast}$\n",
    "<br/>\n",
    "$\\mu_{diff} = \\mu_{1} - \\mu_{2}$\n",
    "\n",
    "$\\textbf{Assumptions: }$\n",
    "+ $\\text{The sample is a simple random sample.}$\n",
    "+ $\\text{Since }n = 10 < 30,\\text{we must assume that the sample is normally distributed.}$\n",
    "+ $\\text{The variance of the population is unknown.}$\n",
    "\n",
    "$\\textbf{Hypothesis: }\\text{Mean increase in work time after having breakfast is greater than two hours.}$\n",
    "<br/>\n",
    "$if\\hspace{2.5mm} \\mu_{diff} \\leq 2, \\hspace{2.5mm} accept \\hspace{2.5mm} H_{0}: \\text{Null Hypothesis }$\n",
    "<br/>\n",
    "$if\\hspace{2.5mm} \\mu_{diff} > 2, \\hspace{2.5mm} accept \\hspace{2.5mm} H_{1}: \\text{Alternate Hypothesis } $\n",
    "<br/>\n",
    "\n",
    "$\\textbf{Test Statistic:}\\text{ We use the T statistic }\\frac{\\mu_{diff}-\\mu}{\\frac{S}{\\sqrt{n}}}\\text{ where S: Square root of Sample Variance.}$\n",
    "<br/>\n",
    "$\\text{Our event of interest }\\mu_{diff} \\leq 2\\text{ is equivalent to }\\frac{\\mu_{diff}-\\mu}{\\frac{S}{\\sqrt{n}}} \\leq t \\text{ (critical value).}$"
   ]
  },
  {
   "cell_type": "code",
   "execution_count": 2,
   "metadata": {},
   "outputs": [
    {
     "name": "stdout",
     "output_type": "stream",
     "text": [
      "[1] \"The value of T statistic: 0.245769576155712\"\n"
     ]
    }
   ],
   "source": [
    "# compute mean and sample variance\n",
    "increase = with_breakfast - without_breakfast\n",
    "mu_diff = mean(increase)\n",
    "S = sqrt(var(increase))\n",
    "n = length(increase)\n",
    "\n",
    "# compute T statistic\n",
    "T = (mu_diff - 2)/(S/sqrt(n))\n",
    "\n",
    "print(paste(\"The value of T statistic:\",T))"
   ]
  },
  {
   "cell_type": "markdown",
   "metadata": {},
   "source": [
    "$\\text{We choose Type-I error }\\alpha = 0.05 \\text{ i.e. significance level = 5%.}$\n",
    "<br/>\n",
    "$\\text{We obtain the critical value from the T distribution with n-1 degrees of freedom.}$"
   ]
  },
  {
   "cell_type": "code",
   "execution_count": 3,
   "metadata": {},
   "outputs": [
    {
     "name": "stdout",
     "output_type": "stream",
     "text": [
      "[1] \"t: 1.83311293265624\"\n",
      "[1] \"Alternate Hypotheses H1 is rejected under significance level 5%\"\n"
     ]
    }
   ],
   "source": [
    "# compute critical value\n",
    "t = qt(0.05,df=n-1,lower.tail=FALSE)\n",
    "print(paste(\"t:\",t))\n",
    "\n",
    "# Compare test statistic and critical value\n",
    "if(T <= t){\n",
    "    print(\"Alternate Hypotheses H1 is rejected under significance level 5%\")\n",
    "} else {\n",
    "    print(\"Null Hypotheses H0 is rejected under significance level 5%\")\n",
    "}"
   ]
  },
  {
   "cell_type": "markdown",
   "metadata": {},
   "source": [
    "$\\text{Hence, we conclude that our assumptions were sufficient to accept the Null Hypothesis under 5% significance level. }$\n",
    "<br/>\n",
    "$\\text{Therefore, the mean increase in work time after having breakfast is not greater than 2 hours.}$"
   ]
  },
  {
   "cell_type": "markdown",
   "metadata": {},
   "source": [
    "## Ashwin Singh\n",
    "\n",
    "## 2017222"
   ]
  }
 ],
 "metadata": {
  "kernelspec": {
   "display_name": "R",
   "language": "R",
   "name": "ir"
  },
  "language_info": {
   "codemirror_mode": "r",
   "file_extension": ".r",
   "mimetype": "text/x-r-source",
   "name": "R",
   "pygments_lexer": "r",
   "version": "3.5.1"
  }
 },
 "nbformat": 4,
 "nbformat_minor": 2
}
